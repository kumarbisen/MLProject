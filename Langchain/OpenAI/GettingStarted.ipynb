{
 "cells": [
  {
   "cell_type": "code",
   "execution_count": 2,
   "id": "81400a4d",
   "metadata": {},
   "outputs": [],
   "source": [
    "import os \n",
    "from dotenv import load_dotenv\n",
    "load_dotenv()\n",
    "\n",
    "os.environ['OPENAI_API_KEY']=os.getenv(\"OPENAI_API_KEY\")\n",
    "#langsmith Tracking\n",
    "os.environ[\"LANGCHAIN_API_KEY\"]=os.getenv(\"LANGCHAIN_API_KEY\")\n",
    "os.environ[\"LANGCHAIN_TRACING_V2\"]= \"true\"\n",
    "os.environ['LANGCHAIN_PROJECT']= os.getenv(\"LANGCHAIN_PROJECT\")"
   ]
  },
  {
   "cell_type": "code",
   "execution_count": 5,
   "id": "df499591",
   "metadata": {},
   "outputs": [
    {
     "name": "stdout",
     "output_type": "stream",
     "text": [
      "client=<openai.resources.chat.completions.completions.Completions object at 0x0000023CCC7AD750> async_client=<openai.resources.chat.completions.completions.AsyncCompletions object at 0x0000023CCC7AC820> root_client=<openai.OpenAI object at 0x0000023CCC7AF970> root_async_client=<openai.AsyncOpenAI object at 0x0000023CCC7AFA90> model_name='gpt-4o' model_kwargs={} openai_api_key=SecretStr('**********')\n"
     ]
    }
   ],
   "source": [
    "from langchain_openai import ChatOpenAI\n",
    "llm = ChatOpenAI(model=\"gpt-4o\")\n",
    "print(llm)"
   ]
  },
  {
   "cell_type": "code",
   "execution_count": 6,
   "id": "237a55f3",
   "metadata": {},
   "outputs": [
    {
     "name": "stdout",
     "output_type": "stream",
     "text": [
      "content='Artificial Intelligence (AI) refers to the simulation of human intelligence in machines that are programmed to think and learn like humans. These systems are designed to perform tasks that typically require human-like cognitive functions, such as understanding natural language, recognizing patterns, solving problems, and making decisions.\\n\\nAI can be categorized into several types:\\n\\n1. **Narrow AI (Weak AI)**: This type of AI is designed to perform a narrow task, such as facial recognition or internet searches. It is the most common form of AI currently in use.\\n\\n2. **General AI (Strong AI)**: This type of AI would have the ability to understand, learn, and apply intelligence to solve any problem, much like a human. As of now, general AI remains a theoretical concept and does not exist.\\n\\n3. **Superintelligent AI**: This is a hypothetical form of AI that surpasses human intelligence in all aspects, including creativity, general wisdom, and problem-solving. Like general AI, this is speculative and has not been realized.\\n\\nAI systems often utilize techniques like machine learning, where algorithms are used to find patterns and learn from data. A subset of machine learning is deep learning, which involves neural networks with many layers that can model complex patterns in data.\\n\\nAI is used in numerous applications today, from virtual assistants like Siri and Alexa to self-driving cars, recommendation systems, and medical diagnosis tools. Its development and integration into various sectors continue to grow, with ongoing debates about ethical considerations and the future implications of advanced AI systems.' additional_kwargs={'refusal': None} response_metadata={'token_usage': {'completion_tokens': 304, 'prompt_tokens': 11, 'total_tokens': 315, 'completion_tokens_details': {'accepted_prediction_tokens': 0, 'audio_tokens': 0, 'reasoning_tokens': 0, 'rejected_prediction_tokens': 0}, 'prompt_tokens_details': {'audio_tokens': 0, 'cached_tokens': 0}}, 'model_name': 'gpt-4o-2024-08-06', 'system_fingerprint': 'fp_cbf1785567', 'id': 'chatcmpl-CCLqSodmXXzWww3fha8FzA8EJgl63', 'service_tier': 'default', 'finish_reason': 'stop', 'logprobs': None} id='run--c7d1295e-85e7-4727-a5ab-0856c3d5fdb6-0' usage_metadata={'input_tokens': 11, 'output_tokens': 304, 'total_tokens': 315, 'input_token_details': {'audio': 0, 'cache_read': 0}, 'output_token_details': {'audio': 0, 'reasoning': 0}}\n"
     ]
    }
   ],
   "source": [
    "# Input and get response from llm\n",
    "result = llm.invoke(\"what is ai?\")\n",
    "print(result)"
   ]
  },
  {
   "cell_type": "code",
   "execution_count": 9,
   "id": "9ec7daa5",
   "metadata": {},
   "outputs": [
    {
     "data": {
      "text/plain": [
       "ChatPromptTemplate(input_variables=['input'], input_types={}, partial_variables={}, messages=[SystemMessagePromptTemplate(prompt=PromptTemplate(input_variables=[], input_types={}, partial_variables={}, template='you are an expert AI Engineer . provide me answers based on the questions'), additional_kwargs={}), HumanMessagePromptTemplate(prompt=PromptTemplate(input_variables=['input'], input_types={}, partial_variables={}, template='{input}'), additional_kwargs={})])"
      ]
     },
     "execution_count": 9,
     "metadata": {},
     "output_type": "execute_result"
    }
   ],
   "source": [
    "# Chatpromt Template\n",
    "from langchain_core.prompts import ChatPromptTemplate\n",
    "prompt = ChatPromptTemplate.from_messages(\n",
    "    [\n",
    "        (\"system\",\"you are an expert AI Engineer . provide me answers based on the questions\"),\n",
    "        (\"user\",\"{input}\")\n",
    "    ]\n",
    "    \n",
    ")\n",
    "\n",
    "prompt"
   ]
  },
  {
   "cell_type": "code",
   "execution_count": null,
   "id": "73d3831c",
   "metadata": {},
   "outputs": [
    {
     "name": "stdout",
     "output_type": "stream",
     "text": [
      "content='Langsmith is a tool designed to assist developers in improving and evaluating large language model applications. It provides functionalities for debugging and testing these applications to enhance their reliability. Key features of Langsmith include detailed tracing to understand how an application functions and identifying any issues, as well as evaluation tools to assess the application’s performance. Additionally, Langsmith offers a dashboard to facilitate comparisons between different language model implementations, making it easier for developers to optimize their AI applications.' additional_kwargs={'refusal': None} response_metadata={'token_usage': {'completion_tokens': 90, 'prompt_tokens': 32, 'total_tokens': 122, 'completion_tokens_details': {'accepted_prediction_tokens': 0, 'audio_tokens': 0, 'reasoning_tokens': 0, 'rejected_prediction_tokens': 0}, 'prompt_tokens_details': {'audio_tokens': 0, 'cached_tokens': 0}}, 'model_name': 'gpt-4o-2024-08-06', 'system_fingerprint': 'fp_cbf1785567', 'id': 'chatcmpl-CCMEyBhHUu0gCjylx07ejh0fYWjEc', 'service_tier': 'default', 'finish_reason': 'stop', 'logprobs': None} id='run--1933f78a-cccb-45dc-a909-5b6a30b6b6f8-0' usage_metadata={'input_tokens': 32, 'output_tokens': 90, 'total_tokens': 122, 'input_token_details': {'audio': 0, 'cache_read': 0}, 'output_token_details': {'audio': 0, 'reasoning': 0}}\n"
     ]
    }
   ],
   "source": [
    "chain = prompt| llm\n",
    "response = chain.invoke({\"input\":\"Can you tell me about Langsmith\"})\n",
    "print(response)"
   ]
  },
  {
   "cell_type": "code",
   "execution_count": 11,
   "id": "0fe2d4e0",
   "metadata": {},
   "outputs": [
    {
     "data": {
      "text/plain": [
       "langchain_core.messages.ai.AIMessage"
      ]
     },
     "execution_count": 11,
     "metadata": {},
     "output_type": "execute_result"
    }
   ],
   "source": [
    "\n",
    "type(response)"
   ]
  },
  {
   "cell_type": "code",
   "execution_count": 12,
   "id": "fb74988e",
   "metadata": {},
   "outputs": [
    {
     "name": "stdout",
     "output_type": "stream",
     "text": [
      "Certainly! Langsmith is a tool developed by LangChain, designed to enhance the development and management of language model applications. It offers functionalities that help in evaluating, testing, and monitoring language models, making the development process more systematic and efficient.\n",
      "\n",
      "Langsmith includes features for:\n",
      "\n",
      "1. **Evaluation**: It provides tools to evaluate the performance of different language models, helping developers choose the right model for their specific application needs.\n",
      "   \n",
      "2. **Testing**: Langsmith aids in testing the models under various scenarios to ensure reliability and effectiveness, helping developers identify potential issues early in the development process.\n",
      "\n",
      "3. **Monitoring**: Once a language model is deployed, Langsmith can monitor its performance in real-time to ensure it meets the expected standards and can provide insights on how to improve it further.\n",
      "\n",
      "Overall, Langsmith helps streamline the development lifecycle of language model applications, ensuring they are robust, reliable, and effective.\n"
     ]
    }
   ],
   "source": [
    "# stroutput parser\n",
    "from langchain_core.output_parsers import StrOutputParser\n",
    "output_parser = StrOutputParser()\n",
    "chain = prompt|llm|output_parser\n",
    "\n",
    "# after output parser\n",
    "response = chain.invoke({\"input\":\"Can you tell me about Langsmith\"})\n",
    "print(response)\n",
    "\n"
   ]
  },
  {
   "cell_type": "code",
   "execution_count": null,
   "id": "f8719332",
   "metadata": {},
   "outputs": [],
   "source": []
  },
  {
   "cell_type": "code",
   "execution_count": null,
   "metadata": {},
   "outputs": [],
   "source": []
  },
  {
   "cell_type": "code",
   "execution_count": null,
   "id": "db88306e",
   "metadata": {},
   "outputs": [],
   "source": []
  }
 ],
 "metadata": {
  "kernelspec": {
   "display_name": "Python 3",
   "language": "python",
   "name": "python3"
  },
  "language_info": {
   "codemirror_mode": {
    "name": "ipython",
    "version": 3
   },
   "file_extension": ".py",
   "mimetype": "text/x-python",
   "name": "python",
   "nbconvert_exporter": "python",
   "pygments_lexer": "ipython3",
   "version": "3.10.0"
  }
 },
 "nbformat": 4,
 "nbformat_minor": 5
}
