{
 "cells": [
  {
   "cell_type": "markdown",
   "id": "519c227d-a290-44fb-ade6-47a0a3a39129",
   "metadata": {},
   "source": [
    "### Stemming:  \n",
    "stemming is the process of reducing a word to its word stem that affixes to suffixes and prefixes or to the roots of words known as a lemma. Stemming is important in natural language understanding (NLU) and natural language processing (NLP)"
   ]
  },
  {
   "cell_type": "code",
   "execution_count": 25,
   "id": "490726e3-0464-4d49-ba1b-6815b3693d8a",
   "metadata": {},
   "outputs": [],
   "source": [
    "### classification Problem\n",
    "### comments of product is a positive review or negative review\n",
    "### Reviews ---> eating, eat , eaten,  going , gone , goes\n",
    "\n",
    "words = [\"eating\", \"eats\",\"eaten\", \"writing\", \"writes\", \"programming\", \"progams\",\"history\", \"finally\", \"finalized\"]"
   ]
  },
  {
   "cell_type": "markdown",
   "id": "2b887204-04e5-4322-a301-58360646bb3b",
   "metadata": {},
   "source": [
    "### PorterStemmer"
   ]
  },
  {
   "cell_type": "code",
   "execution_count": 26,
   "id": "46ad215a-24ff-4431-8d5f-ac90e68ac15f",
   "metadata": {},
   "outputs": [],
   "source": [
    "import nltk \n",
    "from nltk.stem import PorterStemmer"
   ]
  },
  {
   "cell_type": "code",
   "execution_count": 27,
   "id": "9a20f8b3-42ad-46cd-ae0b-8cd664298823",
   "metadata": {},
   "outputs": [],
   "source": [
    "stemming = PorterStemmer()"
   ]
  },
  {
   "cell_type": "code",
   "execution_count": 28,
   "id": "7e0cb836-4849-4bcf-a1fb-f195d5801bdc",
   "metadata": {},
   "outputs": [
    {
     "name": "stdout",
     "output_type": "stream",
     "text": [
      "eating----->eat\n",
      "eats----->eat\n",
      "eaten----->eaten\n",
      "writing----->write\n",
      "writes----->write\n",
      "programming----->program\n",
      "progams----->progam\n",
      "history----->histori\n",
      "finally----->final\n",
      "finalized----->final\n"
     ]
    }
   ],
   "source": [
    "for word in words:\n",
    "    print(word +\"----->\"+ stemming.stem(word))"
   ]
  },
  {
   "cell_type": "code",
   "execution_count": 29,
   "id": "52bcfe26-3ebc-42c2-9240-669826b2fd68",
   "metadata": {},
   "outputs": [],
   "source": [
    "### "
   ]
  },
  {
   "cell_type": "markdown",
   "id": "76ae0ed0-ffd2-4a0b-9a6c-3eec3915ffe1",
   "metadata": {},
   "source": [
    "### RegexpStemmer class\n",
    "\n",
    "NLTK has RegexpStemmer class with the help of which we can easily impliment Regular Expression\n",
    "Stemmer algorithms . it basically takes a single regular expression and removes any \n",
    "prefix or suffix that matches the expression. Let us se an example"
   ]
  },
  {
   "cell_type": "code",
   "execution_count": 30,
   "id": "49456091-08c6-47a8-8855-436e3f0c4a94",
   "metadata": {},
   "outputs": [],
   "source": [
    "\n",
    "from nltk.stem import RegexpStemmer \n"
   ]
  },
  {
   "cell_type": "code",
   "execution_count": 31,
   "id": "415b937d-a61c-4131-86e7-379bc9530ee9",
   "metadata": {},
   "outputs": [],
   "source": [
    "reg_stemmer = RegexpStemmer('ing$|s$|es$|able$',min = 4)"
   ]
  },
  {
   "cell_type": "code",
   "execution_count": 32,
   "id": "18f06bea-1596-425b-9fc4-dfb3a10f979a",
   "metadata": {},
   "outputs": [
    {
     "data": {
      "text/plain": [
       "'eat'"
      ]
     },
     "execution_count": 32,
     "metadata": {},
     "output_type": "execute_result"
    }
   ],
   "source": [
    "reg_stemmer.stem('eating')"
   ]
  },
  {
   "cell_type": "code",
   "execution_count": 33,
   "id": "95b4cee2-b976-4703-830f-8435daa60968",
   "metadata": {},
   "outputs": [
    {
     "data": {
      "text/plain": [
       "'ingeat'"
      ]
     },
     "execution_count": 33,
     "metadata": {},
     "output_type": "execute_result"
    }
   ],
   "source": [
    "reg_stemmer.stem('ingeating')"
   ]
  },
  {
   "cell_type": "markdown",
   "id": "61814e2d-ea13-4000-8663-2c64819d9362",
   "metadata": {},
   "source": [
    "### Snowball Stemmer"
   ]
  },
  {
   "cell_type": "code",
   "execution_count": 34,
   "id": "57abbbfb-e6f6-4ba7-9e8c-40df0ff47566",
   "metadata": {},
   "outputs": [
    {
     "name": "stdout",
     "output_type": "stream",
     "text": [
      "eating----->eat\n",
      "eats----->eat\n",
      "eaten----->eaten\n",
      "writing----->write\n",
      "writes----->write\n",
      "programming----->program\n",
      "progams----->progam\n",
      "history----->histori\n",
      "finally----->final\n",
      "finalized----->final\n"
     ]
    }
   ],
   "source": [
    "from nltk.stem import SnowballStemmer \n",
    "snowball = SnowballStemmer('english')\n",
    "for word in words:\n",
    "    print(word+\"----->\"+snowball.stem(word))"
   ]
  },
  {
   "cell_type": "code",
   "execution_count": 36,
   "id": "a4b60d4c-c1e9-49d7-911e-08c92eb44a94",
   "metadata": {},
   "outputs": [
    {
     "data": {
      "text/plain": [
       "'fairli'"
      ]
     },
     "execution_count": 36,
     "metadata": {},
     "output_type": "execute_result"
    }
   ],
   "source": [
    "stemming.stem(\"fairly\")"
   ]
  },
  {
   "cell_type": "code",
   "execution_count": 37,
   "id": "361add89-08cf-4d7b-84e4-88987353d929",
   "metadata": {},
   "outputs": [
    {
     "data": {
      "text/plain": [
       "'fair'"
      ]
     },
     "execution_count": 37,
     "metadata": {},
     "output_type": "execute_result"
    }
   ],
   "source": [
    "snowball.stem(\"fairly\"),"
   ]
  },
  {
   "cell_type": "code",
   "execution_count": null,
   "id": "75ac3019-119a-4276-8b46-b49c8b752650",
   "metadata": {},
   "outputs": [],
   "source": []
  },
  {
   "cell_type": "code",
   "execution_count": null,
   "id": "2528dcd6-6081-4668-a1fd-e5363416761b",
   "metadata": {},
   "outputs": [],
   "source": []
  },
  {
   "cell_type": "code",
   "execution_count": null,
   "id": "d3f32569-f365-42eb-af71-ae8deaef186c",
   "metadata": {},
   "outputs": [],
   "source": []
  }
 ],
 "metadata": {
  "kernelspec": {
   "display_name": "Python 3 (ipykernel)",
   "language": "python",
   "name": "python3"
  },
  "language_info": {
   "codemirror_mode": {
    "name": "ipython",
    "version": 3
   },
   "file_extension": ".py",
   "mimetype": "text/x-python",
   "name": "python",
   "nbconvert_exporter": "python",
   "pygments_lexer": "ipython3",
   "version": "3.12.7"
  }
 },
 "nbformat": 4,
 "nbformat_minor": 5
}
