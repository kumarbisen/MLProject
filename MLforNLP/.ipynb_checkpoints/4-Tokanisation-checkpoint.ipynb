{
 "cells": [
  {
   "cell_type": "code",
   "execution_count": 29,
   "id": "c5f0227a-7921-44ce-8978-65012d0d4eb1",
   "metadata": {},
   "outputs": [],
   "source": [
    "corpus = \"\"\" myself vivek and i am a programmer.\n",
    "i want to complete this al & ml course.\"\"\""
   ]
  },
  {
   "cell_type": "code",
   "execution_count": 30,
   "id": "3d85beac-fe36-423f-8749-b41a774ef2ce",
   "metadata": {},
   "outputs": [],
   "source": [
    "## Tokenisition\n",
    "## sentence --> paragraph\n",
    "import nltk\n",
    "from nltk.tokenize import sent_tokenize\n"
   ]
  },
  {
   "cell_type": "code",
   "execution_count": 31,
   "id": "33b54274-6f6e-48a2-ab2f-64bcc1119a83",
   "metadata": {},
   "outputs": [
    {
     "name": "stdout",
     "output_type": "stream",
     "text": [
      " myself vivek and i am a programmer.\n",
      "i want to complete this al & ml course.\n"
     ]
    }
   ],
   "source": [
    "print(corpus)"
   ]
  },
  {
   "cell_type": "code",
   "execution_count": 32,
   "id": "c6d4c4a1-16a1-4791-95c8-5f7b4f9b1554",
   "metadata": {},
   "outputs": [],
   "source": [
    "documents=sent_tokenize(corpus)\n"
   ]
  },
  {
   "cell_type": "code",
   "execution_count": 33,
   "id": "d6c0950b-5a6e-4207-a019-35cbd923c2f2",
   "metadata": {},
   "outputs": [
    {
     "data": {
      "text/plain": [
       "list"
      ]
     },
     "execution_count": 33,
     "metadata": {},
     "output_type": "execute_result"
    }
   ],
   "source": [
    "type(documents)"
   ]
  },
  {
   "cell_type": "code",
   "execution_count": 34,
   "id": "5a864712-ecbc-4b44-b5aa-d38a44a50947",
   "metadata": {},
   "outputs": [
    {
     "name": "stdout",
     "output_type": "stream",
     "text": [
      " myself vivek and i am a programmer.\n",
      "i want to complete this al & ml course.\n"
     ]
    }
   ],
   "source": [
    "for sentence in documents:\n",
    "    print(sentence)"
   ]
  },
  {
   "cell_type": "code",
   "execution_count": 35,
   "id": "901af4f5-8c6a-475a-96b9-95c6d4541d7b",
   "metadata": {},
   "outputs": [],
   "source": [
    "## Tokenisition\n",
    "## paragraph --> word\n",
    "## sentence --> word\n",
    "import nltk\n",
    "from nltk.tokenize import word_tokenize"
   ]
  },
  {
   "cell_type": "code",
   "execution_count": 36,
   "id": "3ebf77d9-caef-44f0-857f-b772b559e937",
   "metadata": {},
   "outputs": [
    {
     "data": {
      "text/plain": [
       "['myself',\n",
       " 'vivek',\n",
       " 'and',\n",
       " 'i',\n",
       " 'am',\n",
       " 'a',\n",
       " 'programmer',\n",
       " '.',\n",
       " 'i',\n",
       " 'want',\n",
       " 'to',\n",
       " 'complete',\n",
       " 'this',\n",
       " 'al',\n",
       " '&',\n",
       " 'ml',\n",
       " 'course',\n",
       " '.']"
      ]
     },
     "execution_count": 36,
     "metadata": {},
     "output_type": "execute_result"
    }
   ],
   "source": [
    "word_tokenize(corpus)"
   ]
  },
  {
   "cell_type": "code",
   "execution_count": 38,
   "id": "4db70026-c7e0-44f9-8eec-cf312fc155dc",
   "metadata": {},
   "outputs": [],
   "source": [
    "import nltk \n",
    "from nltk.tokenize import TreebankWordTokenizer\n",
    "tokenizer = TreebankWordTokenizer()"
   ]
  },
  {
   "cell_type": "code",
   "execution_count": 40,
   "id": "e95551c2-4c76-47f9-849f-a7214dd5d1ec",
   "metadata": {},
   "outputs": [
    {
     "data": {
      "text/plain": [
       "['myself',\n",
       " 'vivek',\n",
       " 'and',\n",
       " 'i',\n",
       " 'am',\n",
       " 'a',\n",
       " 'programmer.',\n",
       " 'i',\n",
       " 'want',\n",
       " 'to',\n",
       " 'complete',\n",
       " 'this',\n",
       " 'al',\n",
       " '&',\n",
       " 'ml',\n",
       " 'course',\n",
       " '.']"
      ]
     },
     "execution_count": 40,
     "metadata": {},
     "output_type": "execute_result"
    }
   ],
   "source": [
    "tokenizer.tokenize(corpus)"
   ]
  },
  {
   "cell_type": "code",
   "execution_count": null,
   "id": "9dc54f45-a3b2-4962-9bb2-22128176b359",
   "metadata": {},
   "outputs": [],
   "source": []
  }
 ],
 "metadata": {
  "kernelspec": {
   "display_name": "Python 3 (ipykernel)",
   "language": "python",
   "name": "python3"
  },
  "language_info": {
   "codemirror_mode": {
    "name": "ipython",
    "version": 3
   },
   "file_extension": ".py",
   "mimetype": "text/x-python",
   "name": "python",
   "nbconvert_exporter": "python",
   "pygments_lexer": "ipython3",
   "version": "3.12.7"
  }
 },
 "nbformat": 4,
 "nbformat_minor": 5
}
