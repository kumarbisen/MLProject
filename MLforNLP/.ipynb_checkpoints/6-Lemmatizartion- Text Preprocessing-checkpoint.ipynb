{
 "cells": [
  {
   "cell_type": "markdown",
   "id": "a757a2f1-a565-49ec-bd29-774beb001563",
   "metadata": {},
   "source": [
    "### Wordnet Lemmatizer\n",
    "lemmatization technique is like stemming. The output we will get after lemmatization is called 'lemma' which is a root word rather than root stem, the output of stemming. After lemmatization, we will be getting a valid word that means the same thing.\n",
    "\n",
    "NLTK provides WordNetLemmatizer class which is a thin wrapper around the wordnet corpus.this class uses morphy() function to the WordNet CorpusReader class to find a lemma, Let us understand it with an example -\n"
   ]
  },
  {
   "cell_type": "code",
   "execution_count": 10,
   "id": "3888c346-e01a-4962-aa69-231f5a072489",
   "metadata": {},
   "outputs": [],
   "source": [
    "### Q&A, chatbots, text summarization\n",
    "from nltk.stem import WordNetLemmatizer\n"
   ]
  },
  {
   "cell_type": "code",
   "execution_count": 11,
   "id": "25f888e0-3fbe-405d-a27c-268aa4338541",
   "metadata": {},
   "outputs": [],
   "source": [
    "lemmatizer= WordNetLemmatizer()"
   ]
  },
  {
   "cell_type": "code",
   "execution_count": 12,
   "id": "12dcd0a8-1915-4839-aea2-3f62ed29abdb",
   "metadata": {},
   "outputs": [
    {
     "data": {
      "text/plain": [
       "'go'"
      ]
     },
     "execution_count": 12,
     "metadata": {},
     "output_type": "execute_result"
    }
   ],
   "source": [
    "'''\n",
    "POS :\n",
    "Noun - n\n",
    "verb -v\n",
    "adjective- a\n",
    "adverb -r\n",
    "'''\n",
    "lemmatizer.lemmatize(\"going\",pos='v')"
   ]
  },
  {
   "cell_type": "code",
   "execution_count": 13,
   "id": "8fb2aa73-3c1b-495b-a5d2-f98f66993816",
   "metadata": {},
   "outputs": [],
   "source": [
    "words = [\"eating\", \"eats\",\"eaten\", \"writing\", \"writes\", \"programming\", \"progams\",\"history\", \"finally\", \"finalized\"]"
   ]
  },
  {
   "cell_type": "code",
   "execution_count": 14,
   "id": "db3891b4-ea43-4941-8303-70a24b97a426",
   "metadata": {},
   "outputs": [
    {
     "name": "stdout",
     "output_type": "stream",
     "text": [
      "eating----->eat\n",
      "eats----->eat\n",
      "eaten----->eat\n",
      "writing----->write\n",
      "writes----->write\n",
      "programming----->program\n",
      "progams----->progams\n",
      "history----->history\n",
      "finally----->finally\n",
      "finalized----->finalize\n"
     ]
    }
   ],
   "source": [
    "for word in words:\n",
    "    print(word +\"----->\"+ lemmatizer.lemmatize(word,pos='v'))"
   ]
  },
  {
   "cell_type": "code",
   "execution_count": 20,
   "id": "d5868e4e-b9e1-43cd-8329-6b8bcfa678c5",
   "metadata": {},
   "outputs": [
    {
     "data": {
      "text/plain": [
       "'sport'"
      ]
     },
     "execution_count": 20,
     "metadata": {},
     "output_type": "execute_result"
    }
   ],
   "source": [
    "lemmatizer.lemmatize(\"sports\",pos='n')"
   ]
  },
  {
   "cell_type": "code",
   "execution_count": null,
   "id": "2198b191-8d75-46fe-92b2-23394a37714f",
   "metadata": {},
   "outputs": [],
   "source": []
  },
  {
   "cell_type": "code",
   "execution_count": null,
   "id": "e8d777d1-5d25-4658-b5f8-933e8c4bc58b",
   "metadata": {},
   "outputs": [],
   "source": []
  },
  {
   "cell_type": "code",
   "execution_count": null,
   "id": "183c9d9e-1322-4524-86f3-3450398d0191",
   "metadata": {},
   "outputs": [],
   "source": []
  },
  {
   "cell_type": "code",
   "execution_count": null,
   "id": "bddbe852-6e81-43c2-9b26-01d7393572e0",
   "metadata": {},
   "outputs": [],
   "source": []
  },
  {
   "cell_type": "code",
   "execution_count": null,
   "id": "82906474-7dd3-4385-be08-55f9c91b3f1e",
   "metadata": {},
   "outputs": [],
   "source": []
  },
  {
   "cell_type": "code",
   "execution_count": null,
   "id": "35e6b402-7304-4e86-972c-854489d88610",
   "metadata": {},
   "outputs": [],
   "source": []
  },
  {
   "cell_type": "code",
   "execution_count": null,
   "id": "6f23a09c-3307-43dd-8451-80af0764e8ad",
   "metadata": {},
   "outputs": [],
   "source": []
  }
 ],
 "metadata": {
  "kernelspec": {
   "display_name": "Python 3 (ipykernel)",
   "language": "python",
   "name": "python3"
  },
  "language_info": {
   "codemirror_mode": {
    "name": "ipython",
    "version": 3
   },
   "file_extension": ".py",
   "mimetype": "text/x-python",
   "name": "python",
   "nbconvert_exporter": "python",
   "pygments_lexer": "ipython3",
   "version": "3.12.7"
  }
 },
 "nbformat": 4,
 "nbformat_minor": 5
}
