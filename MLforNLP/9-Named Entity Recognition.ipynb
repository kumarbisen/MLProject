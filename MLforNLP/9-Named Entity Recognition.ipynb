{
 "cells": [
  {
   "cell_type": "markdown",
   "id": "a26b9af8",
   "metadata": {},
   "source": [
    "### Name Entity Recognition\n",
    "The Eiffel Tower was built from 1887 to 1889 by French engineer Gustave Eiffel, whose company specialized in building metal frameworks and structures.,\n",
    "    \n",
    "    \"Person Eg: Krish C Naik\",\n",
    "    \"Place Or Location Eg: India\",\n",
    "    \"Date Eg: September,24-09-1989\",\n",
    "    \"Time  Eg: 4:30pm\",\n",
    "    \"Money Eg: 1 million dollar\",\n",
    "    \"Organization Eg: iNeuron Private Limited\",\n",
    "    \"Percent Eg: 20%, twenty percent\","
   ]
  },
  {
   "cell_type": "code",
   "execution_count": 1,
   "id": "e933b4c9",
   "metadata": {},
   "outputs": [],
   "source": [
    "sentence = \"The Eiffel Tower was built from 1887 to 1889 by French engineer Gustave Eiffel, whose company specialized in building metal frameworks and structures\""
   ]
  },
  {
   "cell_type": "code",
   "execution_count": 2,
   "id": "ffeca15f",
   "metadata": {},
   "outputs": [],
   "source": [
    "import nltk \n",
    "words = nltk.word_tokenize(sentence)"
   ]
  },
  {
   "cell_type": "code",
   "execution_count": 4,
   "id": "38823dba",
   "metadata": {},
   "outputs": [],
   "source": [
    "tag_element = nltk.pos_tag(words)"
   ]
  },
  {
   "cell_type": "code",
   "execution_count": 5,
   "id": "dcc1d819",
   "metadata": {},
   "outputs": [],
   "source": [
    "nltk.ne_chunk(tag_element).draw()"
   ]
  },
  {
   "cell_type": "code",
   "execution_count": null,
   "id": "a58aa53c",
   "metadata": {},
   "outputs": [],
   "source": []
  },
  {
   "cell_type": "code",
   "execution_count": null,
   "id": "c2218792",
   "metadata": {},
   "outputs": [],
   "source": []
  }
 ],
 "metadata": {
  "kernelspec": {
   "display_name": "base",
   "language": "python",
   "name": "python3"
  },
  "language_info": {
   "codemirror_mode": {
    "name": "ipython",
    "version": 3
   },
   "file_extension": ".py",
   "mimetype": "text/x-python",
   "name": "python",
   "nbconvert_exporter": "python",
   "pygments_lexer": "ipython3",
   "version": "3.12.7"
  }
 },
 "nbformat": 4,
 "nbformat_minor": 5
}
