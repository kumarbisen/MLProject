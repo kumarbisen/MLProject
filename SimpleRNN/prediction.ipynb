{
 "cells": [
  {
   "cell_type": "code",
   "execution_count": 1,
   "id": "e8be4529",
   "metadata": {},
   "outputs": [],
   "source": [
    "import numpy as np\n",
    "import tensorflow as tf\n",
    "from tensorflow.keras.datasets import imdb\n",
    "from tensorflow.keras.preprocessing import sequence\n",
    "from tensorflow.keras.models import load_model"
   ]
  },
  {
   "cell_type": "code",
   "execution_count": 2,
   "id": "1f8bebd5",
   "metadata": {},
   "outputs": [],
   "source": [
    "# Load the imdb dataset word index\n",
    "word_index = imdb.get_word_index()\n",
    "reverse_word_index = {value:key for key ,value in word_index.items()}\n"
   ]
  },
  {
   "cell_type": "code",
   "execution_count": 3,
   "id": "6550c9f6",
   "metadata": {},
   "outputs": [
    {
     "name": "stderr",
     "output_type": "stream",
     "text": [
      "WARNING:absl:Compiled the loaded model, but the compiled metrics have yet to be built. `model.compile_metrics` will be empty until you train or evaluate the model.\n"
     ]
    },
    {
     "data": {
      "text/html": [
       "<pre style=\"white-space:pre;overflow-x:auto;line-height:normal;font-family:Menlo,'DejaVu Sans Mono',consolas,'Courier New',monospace\"><span style=\"font-weight: bold\">Model: \"sequential\"</span>\n",
       "</pre>\n"
      ],
      "text/plain": [
       "\u001b[1mModel: \"sequential\"\u001b[0m\n"
      ]
     },
     "metadata": {},
     "output_type": "display_data"
    },
    {
     "data": {
      "text/html": [
       "<pre style=\"white-space:pre;overflow-x:auto;line-height:normal;font-family:Menlo,'DejaVu Sans Mono',consolas,'Courier New',monospace\">┏━━━━━━━━━━━━━━━━━━━━━━━━━━━━━━━━━┳━━━━━━━━━━━━━━━━━━━━━━━━┳━━━━━━━━━━━━━━━┓\n",
       "┃<span style=\"font-weight: bold\"> Layer (type)                    </span>┃<span style=\"font-weight: bold\"> Output Shape           </span>┃<span style=\"font-weight: bold\">       Param # </span>┃\n",
       "┡━━━━━━━━━━━━━━━━━━━━━━━━━━━━━━━━━╇━━━━━━━━━━━━━━━━━━━━━━━━╇━━━━━━━━━━━━━━━┩\n",
       "│ embedding (<span style=\"color: #0087ff; text-decoration-color: #0087ff\">Embedding</span>)           │ (<span style=\"color: #00af00; text-decoration-color: #00af00\">32</span>, <span style=\"color: #00af00; text-decoration-color: #00af00\">500</span>, <span style=\"color: #00af00; text-decoration-color: #00af00\">128</span>)         │     <span style=\"color: #00af00; text-decoration-color: #00af00\">1,280,000</span> │\n",
       "├─────────────────────────────────┼────────────────────────┼───────────────┤\n",
       "│ simple_rnn (<span style=\"color: #0087ff; text-decoration-color: #0087ff\">SimpleRNN</span>)          │ (<span style=\"color: #00af00; text-decoration-color: #00af00\">32</span>, <span style=\"color: #00af00; text-decoration-color: #00af00\">128</span>)              │        <span style=\"color: #00af00; text-decoration-color: #00af00\">32,896</span> │\n",
       "├─────────────────────────────────┼────────────────────────┼───────────────┤\n",
       "│ dense (<span style=\"color: #0087ff; text-decoration-color: #0087ff\">Dense</span>)                   │ (<span style=\"color: #00af00; text-decoration-color: #00af00\">32</span>, <span style=\"color: #00af00; text-decoration-color: #00af00\">1</span>)                │           <span style=\"color: #00af00; text-decoration-color: #00af00\">129</span> │\n",
       "└─────────────────────────────────┴────────────────────────┴───────────────┘\n",
       "</pre>\n"
      ],
      "text/plain": [
       "┏━━━━━━━━━━━━━━━━━━━━━━━━━━━━━━━━━┳━━━━━━━━━━━━━━━━━━━━━━━━┳━━━━━━━━━━━━━━━┓\n",
       "┃\u001b[1m \u001b[0m\u001b[1mLayer (type)                   \u001b[0m\u001b[1m \u001b[0m┃\u001b[1m \u001b[0m\u001b[1mOutput Shape          \u001b[0m\u001b[1m \u001b[0m┃\u001b[1m \u001b[0m\u001b[1m      Param #\u001b[0m\u001b[1m \u001b[0m┃\n",
       "┡━━━━━━━━━━━━━━━━━━━━━━━━━━━━━━━━━╇━━━━━━━━━━━━━━━━━━━━━━━━╇━━━━━━━━━━━━━━━┩\n",
       "│ embedding (\u001b[38;5;33mEmbedding\u001b[0m)           │ (\u001b[38;5;34m32\u001b[0m, \u001b[38;5;34m500\u001b[0m, \u001b[38;5;34m128\u001b[0m)         │     \u001b[38;5;34m1,280,000\u001b[0m │\n",
       "├─────────────────────────────────┼────────────────────────┼───────────────┤\n",
       "│ simple_rnn (\u001b[38;5;33mSimpleRNN\u001b[0m)          │ (\u001b[38;5;34m32\u001b[0m, \u001b[38;5;34m128\u001b[0m)              │        \u001b[38;5;34m32,896\u001b[0m │\n",
       "├─────────────────────────────────┼────────────────────────┼───────────────┤\n",
       "│ dense (\u001b[38;5;33mDense\u001b[0m)                   │ (\u001b[38;5;34m32\u001b[0m, \u001b[38;5;34m1\u001b[0m)                │           \u001b[38;5;34m129\u001b[0m │\n",
       "└─────────────────────────────────┴────────────────────────┴───────────────┘\n"
      ]
     },
     "metadata": {},
     "output_type": "display_data"
    },
    {
     "data": {
      "text/html": [
       "<pre style=\"white-space:pre;overflow-x:auto;line-height:normal;font-family:Menlo,'DejaVu Sans Mono',consolas,'Courier New',monospace\"><span style=\"font-weight: bold\"> Total params: </span><span style=\"color: #00af00; text-decoration-color: #00af00\">1,313,027</span> (5.01 MB)\n",
       "</pre>\n"
      ],
      "text/plain": [
       "\u001b[1m Total params: \u001b[0m\u001b[38;5;34m1,313,027\u001b[0m (5.01 MB)\n"
      ]
     },
     "metadata": {},
     "output_type": "display_data"
    },
    {
     "data": {
      "text/html": [
       "<pre style=\"white-space:pre;overflow-x:auto;line-height:normal;font-family:Menlo,'DejaVu Sans Mono',consolas,'Courier New',monospace\"><span style=\"font-weight: bold\"> Trainable params: </span><span style=\"color: #00af00; text-decoration-color: #00af00\">1,313,025</span> (5.01 MB)\n",
       "</pre>\n"
      ],
      "text/plain": [
       "\u001b[1m Trainable params: \u001b[0m\u001b[38;5;34m1,313,025\u001b[0m (5.01 MB)\n"
      ]
     },
     "metadata": {},
     "output_type": "display_data"
    },
    {
     "data": {
      "text/html": [
       "<pre style=\"white-space:pre;overflow-x:auto;line-height:normal;font-family:Menlo,'DejaVu Sans Mono',consolas,'Courier New',monospace\"><span style=\"font-weight: bold\"> Non-trainable params: </span><span style=\"color: #00af00; text-decoration-color: #00af00\">0</span> (0.00 B)\n",
       "</pre>\n"
      ],
      "text/plain": [
       "\u001b[1m Non-trainable params: \u001b[0m\u001b[38;5;34m0\u001b[0m (0.00 B)\n"
      ]
     },
     "metadata": {},
     "output_type": "display_data"
    },
    {
     "data": {
      "text/html": [
       "<pre style=\"white-space:pre;overflow-x:auto;line-height:normal;font-family:Menlo,'DejaVu Sans Mono',consolas,'Courier New',monospace\"><span style=\"font-weight: bold\"> Optimizer params: </span><span style=\"color: #00af00; text-decoration-color: #00af00\">2</span> (12.00 B)\n",
       "</pre>\n"
      ],
      "text/plain": [
       "\u001b[1m Optimizer params: \u001b[0m\u001b[38;5;34m2\u001b[0m (12.00 B)\n"
      ]
     },
     "metadata": {},
     "output_type": "display_data"
    }
   ],
   "source": [
    "# load the pre-trained model with relu acivation\n",
    "model = load_model('simple_rnn_imdb.h5')\n",
    "model.summary()"
   ]
  },
  {
   "cell_type": "code",
   "execution_count": 4,
   "id": "66db8f7e",
   "metadata": {},
   "outputs": [
    {
     "data": {
      "text/plain": [
       "[array([[-0.02904086, -0.03273085,  0.02599661, ...,  0.04310616,\n",
       "          0.04072744,  0.00517657],\n",
       "        [-0.00877516, -0.02511106, -0.01309495, ..., -0.04248803,\n",
       "         -0.0213728 , -0.02348283],\n",
       "        [-0.05662919, -0.03768304, -0.01027526, ...,  0.00357888,\n",
       "         -0.01688765, -0.02254992],\n",
       "        ...,\n",
       "        [-0.03628131, -0.01943532,  0.00885341, ...,  0.04893855,\n",
       "          0.03731335, -0.00709374],\n",
       "        [-0.00926656,  0.02148172, -0.0148843 , ..., -0.01149736,\n",
       "          0.03971777,  0.01518243],\n",
       "        [-0.02093136, -0.01399299, -0.03278597, ...,  0.00194552,\n",
       "         -0.00562847, -0.03970129]], dtype=float32),\n",
       " array([[ 0.00889446, -0.06795   , -0.0206325 , ...,  0.06996158,\n",
       "         -0.07799484, -0.11902232],\n",
       "        [ 0.0720179 , -0.10361724,  0.00015558, ...,  0.1099125 ,\n",
       "         -0.02180002, -0.02313173],\n",
       "        [-0.13174967, -0.08642501, -0.01127816, ...,  0.04996607,\n",
       "          0.01982268,  0.07184232],\n",
       "        ...,\n",
       "        [ 0.00552735,  0.10106549, -0.03846272, ...,  0.06663389,\n",
       "          0.00026892, -0.07611512],\n",
       "        [-0.02987296,  0.12256862,  0.04511026, ..., -0.03313274,\n",
       "          0.04946201,  0.03549163],\n",
       "        [ 0.1170633 , -0.07818455,  0.12333827, ...,  0.02817796,\n",
       "         -0.11614614,  0.02659819]], dtype=float32),\n",
       " array([[ 0.13296129, -0.1807705 ,  0.00890435, ..., -0.12171989,\n",
       "         -0.09548517,  0.1331194 ],\n",
       "        [ 0.00147932,  0.08563434, -0.08727231, ..., -0.16511667,\n",
       "          0.00583889,  0.11151838],\n",
       "        [ 0.12712374, -0.06953686, -0.13623145, ..., -0.0509429 ,\n",
       "          0.00592889,  0.13750497],\n",
       "        ...,\n",
       "        [ 0.04487458, -0.07755033, -0.08126813, ..., -0.01767822,\n",
       "         -0.01030533, -0.05183737],\n",
       "        [-0.00685369,  0.00773905,  0.03370875, ...,  0.19302924,\n",
       "          0.05494089, -0.00794045],\n",
       "        [ 0.07781785,  0.05585302, -0.16123159, ..., -0.03029967,\n",
       "          0.00833415, -0.04417897]], dtype=float32),\n",
       " array([ 1.20533388e-02, -4.56494698e-03,  2.21368112e-03,  8.41535162e-03,\n",
       "         4.01053956e-04, -3.86305922e-03, -1.34402129e-03, -9.16798192e-04,\n",
       "         7.68369762e-03, -1.86419021e-03, -9.36302880e-04, -5.43786865e-03,\n",
       "        -3.46513232e-03, -4.02442273e-03, -9.27535538e-03,  7.55322957e-03,\n",
       "         8.98595806e-03, -4.38022194e-03,  2.58637778e-03, -1.15467550e-03,\n",
       "        -5.96593414e-03,  3.48860142e-03,  1.70527189e-03, -7.19679054e-03,\n",
       "         4.00260231e-03,  8.31023883e-03,  2.70456192e-03,  6.95619406e-03,\n",
       "         2.08601728e-03, -1.43376663e-02, -1.78209543e-02, -8.54299590e-03,\n",
       "         8.88642040e-04, -3.26923863e-03, -9.16981953e-04,  7.02761393e-03,\n",
       "        -2.95149931e-03, -9.90964286e-03,  9.52161907e-04, -5.75239072e-03,\n",
       "        -3.21024749e-03, -1.21224178e-02, -2.73299241e-03,  1.22531829e-02,\n",
       "         1.70203280e-02,  1.43716745e-02,  6.27425127e-03,  9.20423120e-03,\n",
       "        -8.49401671e-03, -6.45753369e-03,  1.03680585e-02,  1.70164648e-02,\n",
       "         1.99507270e-03, -3.88930831e-03, -6.27628714e-03, -2.56247679e-03,\n",
       "        -1.08334422e-03,  7.75552588e-03, -8.55447259e-04,  9.08738840e-03,\n",
       "        -9.74556839e-04, -5.60246175e-04,  2.24631722e-03,  3.21361283e-03,\n",
       "        -1.80410955e-03,  2.43404345e-03,  1.22022144e-02,  2.15274398e-03,\n",
       "        -1.67591777e-03, -2.92917644e-03, -7.15392549e-03,  4.94057313e-03,\n",
       "        -3.32928775e-03,  3.72596108e-03, -1.43305212e-03, -2.79427669e-03,\n",
       "         9.41709673e-04, -6.20400719e-03, -2.14040210e-03,  5.66169445e-04,\n",
       "         2.80861132e-04,  9.70929861e-04, -2.26927968e-03, -7.37607293e-03,\n",
       "        -2.70368368e-03,  1.11906994e-02, -6.54214015e-03, -5.23351179e-03,\n",
       "        -3.33704706e-03,  6.15459401e-03,  1.12730004e-02,  3.01649631e-03,\n",
       "         9.80773754e-03, -8.45275726e-03,  6.75750664e-03,  4.51506535e-03,\n",
       "        -4.51893872e-03,  5.12223877e-03,  1.72163732e-02,  5.94275305e-03,\n",
       "         1.28347874e-02, -4.09672409e-03, -3.27777048e-03,  3.67486780e-03,\n",
       "        -5.39546832e-04, -8.27490177e-04,  8.30235891e-03,  1.04811043e-02,\n",
       "        -1.83766679e-05, -6.68482669e-03,  1.04618091e-02,  5.07297274e-03,\n",
       "        -4.18564817e-03, -6.76297210e-03, -3.30678304e-03,  9.76912677e-04,\n",
       "        -8.75589252e-03,  8.69925972e-03,  1.04392017e-03, -9.04656854e-03,\n",
       "        -2.49376404e-03,  8.10770225e-03,  6.54692389e-03, -5.13332139e-04,\n",
       "        -7.71945529e-03, -2.68837204e-04,  1.12474046e-03, -1.43025164e-03],\n",
       "       dtype=float32),\n",
       " array([[ 1.79721013e-01],\n",
       "        [-1.42114908e-01],\n",
       "        [ 1.67399183e-01],\n",
       "        [ 2.20088109e-01],\n",
       "        [ 2.05863491e-01],\n",
       "        [-1.90859258e-01],\n",
       "        [ 1.62118435e-01],\n",
       "        [-9.09547508e-02],\n",
       "        [-2.70705819e-02],\n",
       "        [-1.50622666e-01],\n",
       "        [ 1.04491122e-01],\n",
       "        [ 1.76270381e-02],\n",
       "        [-3.13839540e-02],\n",
       "        [ 1.46259293e-01],\n",
       "        [-3.50779705e-02],\n",
       "        [ 1.09542713e-01],\n",
       "        [ 1.76684782e-01],\n",
       "        [-1.04452297e-03],\n",
       "        [ 1.44973204e-01],\n",
       "        [-1.14203073e-01],\n",
       "        [ 1.62199572e-01],\n",
       "        [-6.91856220e-02],\n",
       "        [-1.39627546e-01],\n",
       "        [ 1.24495693e-01],\n",
       "        [-1.04634285e-01],\n",
       "        [ 1.63241968e-01],\n",
       "        [ 1.09629586e-01],\n",
       "        [ 1.53794773e-02],\n",
       "        [-7.64242709e-02],\n",
       "        [-1.40080765e-01],\n",
       "        [-2.68580280e-02],\n",
       "        [ 1.50763094e-01],\n",
       "        [ 1.97678700e-01],\n",
       "        [-9.93201435e-02],\n",
       "        [ 3.75456922e-02],\n",
       "        [-3.11943050e-03],\n",
       "        [ 1.18143097e-01],\n",
       "        [-1.50684312e-01],\n",
       "        [ 1.32074609e-01],\n",
       "        [ 7.11104050e-02],\n",
       "        [-1.60380721e-01],\n",
       "        [ 7.85871223e-02],\n",
       "        [-5.85237443e-02],\n",
       "        [ 2.05552697e-01],\n",
       "        [ 1.36737987e-01],\n",
       "        [ 1.79733783e-01],\n",
       "        [-3.00170071e-02],\n",
       "        [ 8.95334780e-02],\n",
       "        [ 1.86967835e-01],\n",
       "        [ 1.76329666e-03],\n",
       "        [ 4.50397655e-02],\n",
       "        [ 2.02767178e-01],\n",
       "        [ 1.55177101e-01],\n",
       "        [ 1.40240401e-01],\n",
       "        [ 2.10998461e-01],\n",
       "        [-1.64546087e-01],\n",
       "        [-1.91055685e-01],\n",
       "        [ 3.91918942e-02],\n",
       "        [-2.07037553e-02],\n",
       "        [-2.22080037e-01],\n",
       "        [-3.16921994e-02],\n",
       "        [ 7.91568980e-02],\n",
       "        [-1.24732420e-01],\n",
       "        [-6.48502409e-02],\n",
       "        [-8.52990076e-02],\n",
       "        [ 1.50029108e-01],\n",
       "        [ 1.57129660e-01],\n",
       "        [ 3.80789228e-02],\n",
       "        [ 1.69104159e-01],\n",
       "        [-1.10084407e-01],\n",
       "        [-6.88223355e-03],\n",
       "        [ 8.72636586e-02],\n",
       "        [ 1.05000518e-01],\n",
       "        [ 1.97368991e-02],\n",
       "        [ 1.87427714e-01],\n",
       "        [ 1.00925498e-01],\n",
       "        [-1.47529453e-01],\n",
       "        [ 1.58442095e-01],\n",
       "        [ 2.49172542e-02],\n",
       "        [-1.28815353e-01],\n",
       "        [-1.51318327e-01],\n",
       "        [ 8.80444944e-02],\n",
       "        [-1.61025763e-01],\n",
       "        [ 2.01257467e-01],\n",
       "        [-5.96457422e-02],\n",
       "        [ 1.52318090e-01],\n",
       "        [-9.05455723e-02],\n",
       "        [-1.92732528e-01],\n",
       "        [-2.05007568e-01],\n",
       "        [ 1.40414774e-01],\n",
       "        [ 1.31539470e-02],\n",
       "        [-3.96456122e-02],\n",
       "        [-7.06216618e-02],\n",
       "        [-1.63457215e-01],\n",
       "        [ 1.61003709e-01],\n",
       "        [ 1.54219911e-01],\n",
       "        [-1.87026575e-01],\n",
       "        [ 1.78361699e-01],\n",
       "        [ 1.56117931e-01],\n",
       "        [ 1.40403062e-02],\n",
       "        [ 1.56141892e-01],\n",
       "        [-1.75354436e-01],\n",
       "        [-7.32493326e-02],\n",
       "        [ 1.30079061e-01],\n",
       "        [-1.27069086e-01],\n",
       "        [-1.40728429e-01],\n",
       "        [ 5.78882247e-02],\n",
       "        [ 1.86110422e-01],\n",
       "        [-1.51738539e-01],\n",
       "        [-3.70287523e-02],\n",
       "        [ 7.83659220e-02],\n",
       "        [-6.00197725e-02],\n",
       "        [ 1.13313809e-01],\n",
       "        [-6.50235415e-02],\n",
       "        [ 1.34664372e-01],\n",
       "        [-2.03929752e-01],\n",
       "        [ 6.28442913e-02],\n",
       "        [ 1.15786716e-01],\n",
       "        [-2.10381076e-01],\n",
       "        [ 4.08600532e-02],\n",
       "        [ 5.51643521e-02],\n",
       "        [-3.95497482e-05],\n",
       "        [ 1.46804780e-01],\n",
       "        [ 1.19904451e-01],\n",
       "        [-3.69373187e-02],\n",
       "        [-1.37721106e-01],\n",
       "        [ 8.62933397e-02],\n",
       "        [ 2.01448292e-01]], dtype=float32),\n",
       " array([0.00558302], dtype=float32)]"
      ]
     },
     "execution_count": 4,
     "metadata": {},
     "output_type": "execute_result"
    }
   ],
   "source": [
    "model.get_weights()"
   ]
  },
  {
   "cell_type": "code",
   "execution_count": 5,
   "metadata": {},
   "outputs": [],
   "source": [
    "# Step 2: Helper Fuctions\n",
    "# Function to decode reviews\n",
    "def decode_review(encoded_review):\n",
    "    return ' '.join([reverse_word_index.get(i - 3, '?') for i in encoded_review])\n",
    "\n",
    "## Function to preprocess user input \n",
    "def preprocess_text(text):\n",
    "    words= text.lower().split()\n",
    "    encoded_review = [word_index.get(word,2)+3 for word in words]\n",
    "    padded_review = sequence.pad_sequences([encoded_review],maxlen=500)\n",
    "    return padded_review"
   ]
  },
  {
   "cell_type": "code",
   "execution_count": 6,
   "metadata": {},
   "outputs": [],
   "source": [
    "## Prediction function \n",
    "def predict_sentiment(review):\n",
    "    preprocessed_input = preprocess_text(review)\n",
    "\n",
    "    prediction = model.predict(preprocessed_input)\n",
    "    sentiment = 'Positive' if prediction[0][0]> 0.5 else 'Negative'\n",
    "    return sentiment,prediction[0][0]"
   ]
  },
  {
   "cell_type": "code",
   "execution_count": null,
   "metadata": {},
   "outputs": [
    {
     "name": "stdout",
     "output_type": "stream",
     "text": [
      "\u001b[1m1/1\u001b[0m \u001b[32m━━━━━━━━━━━━━━━━━━━━\u001b[0m\u001b[37m\u001b[0m \u001b[1m0s\u001b[0m 52ms/step\n",
      "Review:This movie was fantastic! The acting was great and the plot was thrilling. \n",
      "Sentiment: Positive\n",
      "Prediction Score: 0.513245165348053\n"
     ]
    }
   ],
   "source": [
    "## step 4: user input and predicton\n",
    "# Example review for prediction\n",
    "\n",
    "example_review = 'This movie was fantastic! The acting was great and the plot was thrilling. '\n",
    "sentiment, score =predict_sentiment(example_review)\n",
    "\n",
    "print(f'Review:{example_review}')\n",
    "print(f'Sentiment: {sentiment}')\n",
    "print(f'Prediction Score: {score}')"
   ]
  }
 ],
 "metadata": {
  "kernelspec": {
   "display_name": "venv",
   "language": "python",
   "name": "python3"
  },
  "language_info": {
   "codemirror_mode": {
    "name": "ipython",
    "version": 3
   },
   "file_extension": ".py",
   "mimetype": "text/x-python",
   "name": "python",
   "nbconvert_exporter": "python",
   "pygments_lexer": "ipython3",
   "version": "3.11.13"
  }
 },
 "nbformat": 4,
 "nbformat_minor": 5
}
